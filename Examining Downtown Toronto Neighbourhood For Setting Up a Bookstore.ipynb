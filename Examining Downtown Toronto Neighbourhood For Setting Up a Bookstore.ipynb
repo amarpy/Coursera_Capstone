{
 "cells": [
  {
   "cell_type": "markdown",
   "metadata": {},
   "source": [
    "# Examining Downtown Toronto Neighbourhood For Setting Up a Bookstore\n",
    "\n",
    "  ### Report by - Amarnath Swamy"
   ]
  },
  {
   "cell_type": "markdown",
   "metadata": {},
   "source": [
    "# Introduction"
   ]
  },
  {
   "cell_type": "markdown",
   "metadata": {},
   "source": [
    "### Which neighbourhood(s) would be ideal to start a bookstore in Downtown Toronto area?\n",
    "\n",
    "Downtown Toronto is the city centre and main central business district of Toronto, Ontario, Canada. Located entirely within the district of Old Toronto, it is approximately 14 square kilometers in area, bounded by Bloor Street to the north, Lake Ontario to the south, the Don Valley to the east, and Bathurst Street to the west. It is also the governmental centre of the City of Toronto and the Province of Ontario. \n",
    "\n",
    "In this report we will examine the Downtown Toronto area to find out which place would be an ideal location to open  a bookstore. \n",
    "\n",
    "<a href = \"https://en.wikipedia.org/wiki/Downtown_Toronto\">\n",
    "    Click here for more about Downtown Toronto </a>"
   ]
  },
  {
   "cell_type": "markdown",
   "metadata": {},
   "source": [
    "# Data Requirements"
   ]
  },
  {
   "cell_type": "markdown",
   "metadata": {},
   "source": [
    "### Foursquare API\n",
    "\n",
    "We would be using the Foursqare.com API to obtain and analyze the venues in and around Downtown Toronto. Foursquare provides a simple and elegant API to use for developers to access its huge quantities of location data. \n",
    "\n",
    "### Geocoding using geopy or geocoder\n",
    "\n",
    "We would need to use a geocoder to fetch latitude and longitude coordinates of any location.\n",
    "\n",
    "### Web Scraping\n",
    "\n",
    "We would need to scrape a wikipedia page to obtain the list of boroughs and neighbourhoods for Toronto. Then we would have to filter out only the data required fot Downtown Toronto.\n",
    "\n",
    "The wikipage can be found below:\n",
    "\n",
    "<a href = \"https://en.wikipedia.org/wiki/List_of_postal_codes_of_Canada:_M\">\n",
    "    Click here for a list of boroughs and neighbourhoods in Toronto </a>"
   ]
  },
  {
   "cell_type": "markdown",
   "metadata": {},
   "source": [
    "# Methodology\n",
    "\n",
    "#### 1. Downloading and cleaning data\n",
    "\n",
    "   In this step we scrape the required data from the wikipedia page given above. We clean the table and extract only the information that is needed into a pandas dataframe. i.e. for Toronto City\n",
    "    \n",
    "   A detailed process of downloading and extracting data can be found in the below link:\n",
    "   \n",
    "<a href = \"https://github.com/amarpy/Coursera_Capstone/blob/master/Wikipedia%20Scraping%20and%20Preprocessing%20the%20Toronto%20Neighbourhood%20Data.ipynb\"> Wikipedia Scraping and Preprocessing the Toronto Neighbourhood Data </a>"
   ]
  },
  {
   "cell_type": "markdown",
   "metadata": {},
   "source": [
    "#### 2. Geocoding the locations to obtain georaphical coordinates (latitude, longitude)\n",
    "\n",
    "Now that you have built a dataframe of the postal code of each neighborhood along with the borough name and neighborhood name, in order to utilize the Foursquare location data, we need to get the latitude and the longitude coordinates of each neighborhood. \n",
    "\n",
    "We use geocoder library to accomplish this. However, given that this package can be very unreliable, in case we are not able to get the geographical coordinates of the neighborhoods using the Geocoder package, here is a link to a csv file that has the geographical coordinates of each postal code: http://cocl.us/Geospatial_data\n",
    "\n",
    "A detailed process of geocoding can be found in the below link:\n",
    "\n",
    "<a href = \"https://github.com/amarpy/Coursera_Capstone/blob/master/Geocoding%20Toronto%20Postal%20Codes.ipynb\">Geocoding Toronto Postal Codes</a>\n",
    "\n"
   ]
  },
  {
   "cell_type": "markdown",
   "metadata": {},
   "source": [
    "#### 3. Explore and Analyze the Downtown Toronto Neighbourhood Data\n",
    "\n",
    "Here we use the Foursquare API to explore neighborhoods in New York City. We will use the **explore** function to get the most common venue categories in each neighborhood, and then use this feature to group the neighborhoods into clusters. \n",
    "\n",
    "###### Machine Learning\n",
    "\n",
    "We will use the *k*-means clustering algorithm to complete this task. Finally, we will use the Folium library to visualize the neighborhoods in Downtown Toronto and their emerging clusters.\n",
    "\n",
    "\n",
    "A detailed process of exploring and anlyzing Downtown Toronto Neighbourhood using Foursquare API can be found in the below link:\n",
    "\n",
    "<a href = \"https://github.com/amarpy/Coursera_Capstone/blob/master/Mapping%20and%20Clustering%20Points.ipynb\">Segmenting and Clustering Neighborhoods in Toronto City</a>"
   ]
  },
  {
   "cell_type": "markdown",
   "metadata": {},
   "source": [
    "# Results and Discussions"
   ]
  },
  {
   "cell_type": "markdown",
   "metadata": {},
   "source": [
    "After we have successfully obtained Downtown Toronto data, we perform data analysis on it."
   ]
  },
  {
   "cell_type": "markdown",
   "metadata": {},
   "source": [
    "A plot of Number of Venues for each neighbourhood shows that there are some neighbourhoods with lesser than 100 venues around them. It can be observed that **Rosedale**, **Christie** and **CN Tower/Island Airport area** have some of the least venue counts.\n",
    "\n",
    "**Note: These figures are limited to a maximum venue count of 100. However, there may be neighbourhoods with venue count greater than 100.**"
   ]
  },
  {
   "cell_type": "markdown",
   "metadata": {},
   "source": [
    "![title](Number of Venues around Downtown Toronto Neighbourhoods.PNG)"
   ]
  },
  {
   "cell_type": "markdown",
   "metadata": {},
   "source": [
    "  "
   ]
  },
  {
   "cell_type": "markdown",
   "metadata": {},
   "source": [
    "We notice that there are over 120 coffee shops, over 70 cafes and nearly 40 restaurants & hotels in Downtown Toronto.\n",
    "\n",
    "**We also find that there are only about 10 bookstores in the whole Downtown Toronto area.**"
   ]
  },
  {
   "cell_type": "markdown",
   "metadata": {},
   "source": [
    "![title](Top 50 venue Categories in Downtown Toronto.PNG)"
   ]
  },
  {
   "cell_type": "markdown",
   "metadata": {},
   "source": [
    "  "
   ]
  },
  {
   "cell_type": "markdown",
   "metadata": {},
   "source": [
    "Here is a table showing the top 10 most common venues for each neighbourhood in Downtown Toronto.\n",
    "\n",
    "We notice that a bookstore does not feature in any top 10 venues of any neighbourhood."
   ]
  },
  {
   "cell_type": "markdown",
   "metadata": {},
   "source": [
    "![title](10 Most Common Venue Categories in Downtown Toronto.PNG)"
   ]
  },
  {
   "cell_type": "markdown",
   "metadata": {},
   "source": [
    "We cluster these neighbourhoods based on the above info and plot them on the map to see the overall emerging clusters."
   ]
  },
  {
   "cell_type": "markdown",
   "metadata": {},
   "source": [
    "### Cluster 0 (Red)\n",
    "\n",
    "#### This cluster is a perfect mixture for different venue categories. Most common venue in this cluster is a coffee shop followed by cafe. There are a lots of restaurants and fast food joints. It also has many options for recreational activities like pubs, nightclubs and parks."
   ]
  },
  {
   "cell_type": "markdown",
   "metadata": {},
   "source": [
    "### Cluster 1 (Purple)\n",
    "\n",
    "#### This cluster seems to in the vicinity of an airport as there are Airport services available around this area."
   ]
  },
  {
   "cell_type": "markdown",
   "metadata": {},
   "source": [
    "### Cluster 2 (Blue)\n",
    "\n",
    "#### Church and Wellesley neighbourhood has eateries and men's shops."
   ]
  },
  {
   "cell_type": "markdown",
   "metadata": {},
   "source": [
    "### Cluster 3 (Green)\n",
    "\n",
    "#### This cluster is similar to Cluster 0.  This cluster also hosts several hotels."
   ]
  },
  {
   "cell_type": "markdown",
   "metadata": {},
   "source": [
    "### Cluster 4 (Orange)\n",
    "\n",
    "#### Berczy Park area is an ideal food joint with many eateries and a Beer bar."
   ]
  },
  {
   "cell_type": "markdown",
   "metadata": {},
   "source": [
    "![title](Downtown Toronto Clusters.PNG)"
   ]
  },
  {
   "cell_type": "markdown",
   "metadata": {},
   "source": [
    "# Conclusion"
   ]
  },
  {
   "cell_type": "markdown",
   "metadata": {},
   "source": [
    "In this report we have examined the Downtown Toronto data to find out which would be an ideal location to setup a book store. We have explored the venue data obtained from Foursquare API and the data obtained by scraping the web. We have then applied various plotting and machine learning techniques to further explore the insights. We find that bookstores are not as common as coffee shops or restaurants. There are only nearly 10 bookstores in Downtown Toronto Neighbourhood. This study can be used to decide whether a location is suitable for setting up a bookstore or not. "
   ]
  }
 ],
 "metadata": {
  "kernelspec": {
   "display_name": "Python 3",
   "language": "python",
   "name": "python3"
  },
  "language_info": {
   "codemirror_mode": {
    "name": "ipython",
    "version": 3
   },
   "file_extension": ".py",
   "mimetype": "text/x-python",
   "name": "python",
   "nbconvert_exporter": "python",
   "pygments_lexer": "ipython3",
   "version": "3.6.5"
  }
 },
 "nbformat": 4,
 "nbformat_minor": 2
}
